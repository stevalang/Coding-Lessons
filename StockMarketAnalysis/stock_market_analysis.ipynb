{
 "cells": [
  {
   "cell_type": "markdown",
   "id": "0da6b896",
   "metadata": {},
   "source": [
    "# Data Project - Stock Market Analysis"
   ]
  },
  {
   "cell_type": "markdown",
   "id": "08ec90bd",
   "metadata": {},
   "source": [
    "1.) What was the change in price of the stock over time?\n",
    "\n",
    "2.) What was the daily return of the stock on average?\n",
    "\n",
    "3.) What was the moving average of the various stocks?\n",
    "\n",
    "4.) What was the correlation between different stocks' closing/daily prices?\n",
    "\n",
    "5.)How much value do we put at risk by investing in a particular stock?\n",
    "\n",
    "6.) How can we attempt to predict future stock behavior?"
   ]
  },
  {
   "cell_type": "markdown",
   "id": "f4c69e05",
   "metadata": {},
   "source": [
    "### Basic Analysis of Stock Information"
   ]
  },
  {
   "cell_type": "code",
   "execution_count": 1,
   "id": "eafa9a50",
   "metadata": {},
   "outputs": [],
   "source": [
    "import pandas as pd\n",
    "import numpy as np\n",
    "from pandas import Series, DataFrame"
   ]
  },
  {
   "cell_type": "code",
   "execution_count": 2,
   "id": "e5636c8d",
   "metadata": {},
   "outputs": [],
   "source": [
    "import matplotlib.pyplot as plt\n",
    "import seaborn as sns\n",
    "sns.set_style('whitegrid')\n",
    "%matplotlib inline"
   ]
  },
  {
   "cell_type": "code",
   "execution_count": 14,
   "id": "cb89a3e0",
   "metadata": {},
   "outputs": [],
   "source": [
    "import pandas_datareader as pdr\n",
    "from datetime import datetime"
   ]
  },
  {
   "cell_type": "code",
   "execution_count": 11,
   "id": "780afeea",
   "metadata": {},
   "outputs": [],
   "source": [
    "tech_list = [\"AAPL\", \"GOOG\", \"MSFT\", \"AMZN\"]"
   ]
  },
  {
   "cell_type": "code",
   "execution_count": 12,
   "id": "464bcedf",
   "metadata": {},
   "outputs": [],
   "source": [
    "end = datetime.now()\n",
    "\n",
    "start = datetime(end.year-1, end.month, end.day)"
   ]
  },
  {
   "cell_type": "code",
   "execution_count": 16,
   "id": "e0254a95",
   "metadata": {},
   "outputs": [],
   "source": [
    "for stock in tech_list:\n",
    "    globals()[stock] = pdr.get_data_yahoo(stock, start, end)"
   ]
  },
  {
   "cell_type": "code",
   "execution_count": 17,
   "id": "dc274138",
   "metadata": {},
   "outputs": [
    {
     "data": {
      "text/html": [
       "<div>\n",
       "<style scoped>\n",
       "    .dataframe tbody tr th:only-of-type {\n",
       "        vertical-align: middle;\n",
       "    }\n",
       "\n",
       "    .dataframe tbody tr th {\n",
       "        vertical-align: top;\n",
       "    }\n",
       "\n",
       "    .dataframe thead th {\n",
       "        text-align: right;\n",
       "    }\n",
       "</style>\n",
       "<table border=\"1\" class=\"dataframe\">\n",
       "  <thead>\n",
       "    <tr style=\"text-align: right;\">\n",
       "      <th></th>\n",
       "      <th>High</th>\n",
       "      <th>Low</th>\n",
       "      <th>Open</th>\n",
       "      <th>Close</th>\n",
       "      <th>Volume</th>\n",
       "      <th>Adj Close</th>\n",
       "    </tr>\n",
       "    <tr>\n",
       "      <th>Date</th>\n",
       "      <th></th>\n",
       "      <th></th>\n",
       "      <th></th>\n",
       "      <th></th>\n",
       "      <th></th>\n",
       "      <th></th>\n",
       "    </tr>\n",
       "  </thead>\n",
       "  <tbody>\n",
       "    <tr>\n",
       "      <th>2020-06-11</th>\n",
       "      <td>87.764999</td>\n",
       "      <td>83.870003</td>\n",
       "      <td>87.327499</td>\n",
       "      <td>83.974998</td>\n",
       "      <td>201662400.0</td>\n",
       "      <td>83.412964</td>\n",
       "    </tr>\n",
       "    <tr>\n",
       "      <th>2020-06-12</th>\n",
       "      <td>86.949997</td>\n",
       "      <td>83.555000</td>\n",
       "      <td>86.180000</td>\n",
       "      <td>84.699997</td>\n",
       "      <td>200146000.0</td>\n",
       "      <td>84.133095</td>\n",
       "    </tr>\n",
       "    <tr>\n",
       "      <th>2020-06-15</th>\n",
       "      <td>86.419998</td>\n",
       "      <td>83.144997</td>\n",
       "      <td>83.312500</td>\n",
       "      <td>85.747498</td>\n",
       "      <td>138808800.0</td>\n",
       "      <td>85.173584</td>\n",
       "    </tr>\n",
       "    <tr>\n",
       "      <th>2020-06-16</th>\n",
       "      <td>88.300003</td>\n",
       "      <td>86.180000</td>\n",
       "      <td>87.864998</td>\n",
       "      <td>88.019997</td>\n",
       "      <td>165428800.0</td>\n",
       "      <td>87.430885</td>\n",
       "    </tr>\n",
       "    <tr>\n",
       "      <th>2020-06-17</th>\n",
       "      <td>88.849998</td>\n",
       "      <td>87.772499</td>\n",
       "      <td>88.787498</td>\n",
       "      <td>87.897499</td>\n",
       "      <td>114406400.0</td>\n",
       "      <td>87.309204</td>\n",
       "    </tr>\n",
       "    <tr>\n",
       "      <th>...</th>\n",
       "      <td>...</td>\n",
       "      <td>...</td>\n",
       "      <td>...</td>\n",
       "      <td>...</td>\n",
       "      <td>...</td>\n",
       "      <td>...</td>\n",
       "    </tr>\n",
       "    <tr>\n",
       "      <th>2021-06-07</th>\n",
       "      <td>126.320000</td>\n",
       "      <td>124.830002</td>\n",
       "      <td>126.169998</td>\n",
       "      <td>125.900002</td>\n",
       "      <td>71057600.0</td>\n",
       "      <td>125.900002</td>\n",
       "    </tr>\n",
       "    <tr>\n",
       "      <th>2021-06-08</th>\n",
       "      <td>128.460007</td>\n",
       "      <td>126.209999</td>\n",
       "      <td>126.599998</td>\n",
       "      <td>126.739998</td>\n",
       "      <td>74403800.0</td>\n",
       "      <td>126.739998</td>\n",
       "    </tr>\n",
       "    <tr>\n",
       "      <th>2021-06-09</th>\n",
       "      <td>127.750000</td>\n",
       "      <td>126.519997</td>\n",
       "      <td>127.209999</td>\n",
       "      <td>127.129997</td>\n",
       "      <td>56877900.0</td>\n",
       "      <td>127.129997</td>\n",
       "    </tr>\n",
       "    <tr>\n",
       "      <th>2021-06-10</th>\n",
       "      <td>128.190002</td>\n",
       "      <td>125.940002</td>\n",
       "      <td>127.019997</td>\n",
       "      <td>126.110001</td>\n",
       "      <td>71086200.0</td>\n",
       "      <td>126.110001</td>\n",
       "    </tr>\n",
       "    <tr>\n",
       "      <th>2021-06-11</th>\n",
       "      <td>127.440002</td>\n",
       "      <td>126.099998</td>\n",
       "      <td>126.529999</td>\n",
       "      <td>127.315002</td>\n",
       "      <td>37738597.0</td>\n",
       "      <td>127.315002</td>\n",
       "    </tr>\n",
       "  </tbody>\n",
       "</table>\n",
       "<p>253 rows × 6 columns</p>\n",
       "</div>"
      ],
      "text/plain": [
       "                  High         Low  ...       Volume   Adj Close\n",
       "Date                                ...                         \n",
       "2020-06-11   87.764999   83.870003  ...  201662400.0   83.412964\n",
       "2020-06-12   86.949997   83.555000  ...  200146000.0   84.133095\n",
       "2020-06-15   86.419998   83.144997  ...  138808800.0   85.173584\n",
       "2020-06-16   88.300003   86.180000  ...  165428800.0   87.430885\n",
       "2020-06-17   88.849998   87.772499  ...  114406400.0   87.309204\n",
       "...                ...         ...  ...          ...         ...\n",
       "2021-06-07  126.320000  124.830002  ...   71057600.0  125.900002\n",
       "2021-06-08  128.460007  126.209999  ...   74403800.0  126.739998\n",
       "2021-06-09  127.750000  126.519997  ...   56877900.0  127.129997\n",
       "2021-06-10  128.190002  125.940002  ...   71086200.0  126.110001\n",
       "2021-06-11  127.440002  126.099998  ...   37738597.0  127.315002\n",
       "\n",
       "[253 rows x 6 columns]"
      ]
     },
     "execution_count": 17,
     "metadata": {},
     "output_type": "execute_result"
    }
   ],
   "source": [
    "AAPL"
   ]
  },
  {
   "cell_type": "code",
   "execution_count": 18,
   "id": "eba1eb68",
   "metadata": {},
   "outputs": [
    {
     "data": {
      "text/html": [
       "<div>\n",
       "<style scoped>\n",
       "    .dataframe tbody tr th:only-of-type {\n",
       "        vertical-align: middle;\n",
       "    }\n",
       "\n",
       "    .dataframe tbody tr th {\n",
       "        vertical-align: top;\n",
       "    }\n",
       "\n",
       "    .dataframe thead th {\n",
       "        text-align: right;\n",
       "    }\n",
       "</style>\n",
       "<table border=\"1\" class=\"dataframe\">\n",
       "  <thead>\n",
       "    <tr style=\"text-align: right;\">\n",
       "      <th></th>\n",
       "      <th>High</th>\n",
       "      <th>Low</th>\n",
       "      <th>Open</th>\n",
       "      <th>Close</th>\n",
       "      <th>Volume</th>\n",
       "      <th>Adj Close</th>\n",
       "    </tr>\n",
       "    <tr>\n",
       "      <th>Date</th>\n",
       "      <th></th>\n",
       "      <th></th>\n",
       "      <th></th>\n",
       "      <th></th>\n",
       "      <th></th>\n",
       "      <th></th>\n",
       "    </tr>\n",
       "  </thead>\n",
       "  <tbody>\n",
       "    <tr>\n",
       "      <th>2020-06-11</th>\n",
       "      <td>1454.474976</td>\n",
       "      <td>1402.000000</td>\n",
       "      <td>1442.479980</td>\n",
       "      <td>1403.839966</td>\n",
       "      <td>1991300</td>\n",
       "      <td>1403.839966</td>\n",
       "    </tr>\n",
       "    <tr>\n",
       "      <th>2020-06-12</th>\n",
       "      <td>1437.000000</td>\n",
       "      <td>1386.020020</td>\n",
       "      <td>1428.489990</td>\n",
       "      <td>1413.180054</td>\n",
       "      <td>1946400</td>\n",
       "      <td>1413.180054</td>\n",
       "    </tr>\n",
       "    <tr>\n",
       "      <th>2020-06-15</th>\n",
       "      <td>1424.800049</td>\n",
       "      <td>1387.920044</td>\n",
       "      <td>1390.800049</td>\n",
       "      <td>1419.849976</td>\n",
       "      <td>1503900</td>\n",
       "      <td>1419.849976</td>\n",
       "    </tr>\n",
       "    <tr>\n",
       "      <th>2020-06-16</th>\n",
       "      <td>1455.020020</td>\n",
       "      <td>1425.900024</td>\n",
       "      <td>1445.219971</td>\n",
       "      <td>1442.719971</td>\n",
       "      <td>1709200</td>\n",
       "      <td>1442.719971</td>\n",
       "    </tr>\n",
       "    <tr>\n",
       "      <th>2020-06-17</th>\n",
       "      <td>1460.000000</td>\n",
       "      <td>1431.380005</td>\n",
       "      <td>1447.160034</td>\n",
       "      <td>1451.119995</td>\n",
       "      <td>1549600</td>\n",
       "      <td>1451.119995</td>\n",
       "    </tr>\n",
       "    <tr>\n",
       "      <th>...</th>\n",
       "      <td>...</td>\n",
       "      <td>...</td>\n",
       "      <td>...</td>\n",
       "      <td>...</td>\n",
       "      <td>...</td>\n",
       "      <td>...</td>\n",
       "    </tr>\n",
       "    <tr>\n",
       "      <th>2021-06-07</th>\n",
       "      <td>2468.000000</td>\n",
       "      <td>2441.072998</td>\n",
       "      <td>2451.320068</td>\n",
       "      <td>2466.090088</td>\n",
       "      <td>1192500</td>\n",
       "      <td>2466.090088</td>\n",
       "    </tr>\n",
       "    <tr>\n",
       "      <th>2021-06-08</th>\n",
       "      <td>2494.495117</td>\n",
       "      <td>2468.239990</td>\n",
       "      <td>2479.899902</td>\n",
       "      <td>2482.850098</td>\n",
       "      <td>1253000</td>\n",
       "      <td>2482.850098</td>\n",
       "    </tr>\n",
       "    <tr>\n",
       "      <th>2021-06-09</th>\n",
       "      <td>2505.000000</td>\n",
       "      <td>2487.330078</td>\n",
       "      <td>2499.500000</td>\n",
       "      <td>2491.399902</td>\n",
       "      <td>1006300</td>\n",
       "      <td>2491.399902</td>\n",
       "    </tr>\n",
       "    <tr>\n",
       "      <th>2021-06-10</th>\n",
       "      <td>2523.260010</td>\n",
       "      <td>2494.000000</td>\n",
       "      <td>2494.010010</td>\n",
       "      <td>2521.600098</td>\n",
       "      <td>1560300</td>\n",
       "      <td>2521.600098</td>\n",
       "    </tr>\n",
       "    <tr>\n",
       "      <th>2021-06-11</th>\n",
       "      <td>2526.989990</td>\n",
       "      <td>2498.500000</td>\n",
       "      <td>2524.919922</td>\n",
       "      <td>2503.350098</td>\n",
       "      <td>791602</td>\n",
       "      <td>2503.350098</td>\n",
       "    </tr>\n",
       "  </tbody>\n",
       "</table>\n",
       "<p>253 rows × 6 columns</p>\n",
       "</div>"
      ],
      "text/plain": [
       "                   High          Low  ...   Volume    Adj Close\n",
       "Date                                  ...                      \n",
       "2020-06-11  1454.474976  1402.000000  ...  1991300  1403.839966\n",
       "2020-06-12  1437.000000  1386.020020  ...  1946400  1413.180054\n",
       "2020-06-15  1424.800049  1387.920044  ...  1503900  1419.849976\n",
       "2020-06-16  1455.020020  1425.900024  ...  1709200  1442.719971\n",
       "2020-06-17  1460.000000  1431.380005  ...  1549600  1451.119995\n",
       "...                 ...          ...  ...      ...          ...\n",
       "2021-06-07  2468.000000  2441.072998  ...  1192500  2466.090088\n",
       "2021-06-08  2494.495117  2468.239990  ...  1253000  2482.850098\n",
       "2021-06-09  2505.000000  2487.330078  ...  1006300  2491.399902\n",
       "2021-06-10  2523.260010  2494.000000  ...  1560300  2521.600098\n",
       "2021-06-11  2526.989990  2498.500000  ...   791602  2503.350098\n",
       "\n",
       "[253 rows x 6 columns]"
      ]
     },
     "execution_count": 18,
     "metadata": {},
     "output_type": "execute_result"
    }
   ],
   "source": [
    "GOOG"
   ]
  },
  {
   "cell_type": "code",
   "execution_count": 19,
   "id": "a8aed074",
   "metadata": {},
   "outputs": [
    {
     "data": {
      "text/html": [
       "<div>\n",
       "<style scoped>\n",
       "    .dataframe tbody tr th:only-of-type {\n",
       "        vertical-align: middle;\n",
       "    }\n",
       "\n",
       "    .dataframe tbody tr th {\n",
       "        vertical-align: top;\n",
       "    }\n",
       "\n",
       "    .dataframe thead th {\n",
       "        text-align: right;\n",
       "    }\n",
       "</style>\n",
       "<table border=\"1\" class=\"dataframe\">\n",
       "  <thead>\n",
       "    <tr style=\"text-align: right;\">\n",
       "      <th></th>\n",
       "      <th>High</th>\n",
       "      <th>Low</th>\n",
       "      <th>Open</th>\n",
       "      <th>Close</th>\n",
       "      <th>Volume</th>\n",
       "      <th>Adj Close</th>\n",
       "    </tr>\n",
       "  </thead>\n",
       "  <tbody>\n",
       "    <tr>\n",
       "      <th>count</th>\n",
       "      <td>253.000000</td>\n",
       "      <td>253.000000</td>\n",
       "      <td>253.000000</td>\n",
       "      <td>253.000000</td>\n",
       "      <td>2.530000e+02</td>\n",
       "      <td>253.000000</td>\n",
       "    </tr>\n",
       "    <tr>\n",
       "      <th>mean</th>\n",
       "      <td>120.841977</td>\n",
       "      <td>117.770919</td>\n",
       "      <td>119.427915</td>\n",
       "      <td>119.309358</td>\n",
       "      <td>1.247690e+08</td>\n",
       "      <td>118.913335</td>\n",
       "    </tr>\n",
       "    <tr>\n",
       "      <th>std</th>\n",
       "      <td>13.276939</td>\n",
       "      <td>13.097851</td>\n",
       "      <td>13.284662</td>\n",
       "      <td>13.181858</td>\n",
       "      <td>5.413768e+07</td>\n",
       "      <td>13.299194</td>\n",
       "    </tr>\n",
       "    <tr>\n",
       "      <th>min</th>\n",
       "      <td>86.419998</td>\n",
       "      <td>83.144997</td>\n",
       "      <td>83.312500</td>\n",
       "      <td>83.974998</td>\n",
       "      <td>3.773860e+07</td>\n",
       "      <td>83.412964</td>\n",
       "    </tr>\n",
       "    <tr>\n",
       "      <th>25%</th>\n",
       "      <td>115.930000</td>\n",
       "      <td>112.589996</td>\n",
       "      <td>114.430000</td>\n",
       "      <td>114.607498</td>\n",
       "      <td>8.822370e+07</td>\n",
       "      <td>114.045685</td>\n",
       "    </tr>\n",
       "    <tr>\n",
       "      <th>50%</th>\n",
       "      <td>123.599998</td>\n",
       "      <td>120.320000</td>\n",
       "      <td>122.019997</td>\n",
       "      <td>121.779999</td>\n",
       "      <td>1.115985e+08</td>\n",
       "      <td>121.392097</td>\n",
       "    </tr>\n",
       "    <tr>\n",
       "      <th>75%</th>\n",
       "      <td>129.720001</td>\n",
       "      <td>126.760002</td>\n",
       "      <td>128.500000</td>\n",
       "      <td>127.900002</td>\n",
       "      <td>1.511010e+08</td>\n",
       "      <td>127.683121</td>\n",
       "    </tr>\n",
       "    <tr>\n",
       "      <th>max</th>\n",
       "      <td>145.089996</td>\n",
       "      <td>141.369995</td>\n",
       "      <td>143.600006</td>\n",
       "      <td>143.160004</td>\n",
       "      <td>3.743368e+08</td>\n",
       "      <td>142.704010</td>\n",
       "    </tr>\n",
       "  </tbody>\n",
       "</table>\n",
       "</div>"
      ],
      "text/plain": [
       "             High         Low        Open       Close        Volume   Adj Close\n",
       "count  253.000000  253.000000  253.000000  253.000000  2.530000e+02  253.000000\n",
       "mean   120.841977  117.770919  119.427915  119.309358  1.247690e+08  118.913335\n",
       "std     13.276939   13.097851   13.284662   13.181858  5.413768e+07   13.299194\n",
       "min     86.419998   83.144997   83.312500   83.974998  3.773860e+07   83.412964\n",
       "25%    115.930000  112.589996  114.430000  114.607498  8.822370e+07  114.045685\n",
       "50%    123.599998  120.320000  122.019997  121.779999  1.115985e+08  121.392097\n",
       "75%    129.720001  126.760002  128.500000  127.900002  1.511010e+08  127.683121\n",
       "max    145.089996  141.369995  143.600006  143.160004  3.743368e+08  142.704010"
      ]
     },
     "execution_count": 19,
     "metadata": {},
     "output_type": "execute_result"
    }
   ],
   "source": [
    "AAPL.describe()"
   ]
  },
  {
   "cell_type": "code",
   "execution_count": 21,
   "id": "4897c5d4",
   "metadata": {},
   "outputs": [
    {
     "name": "stdout",
     "output_type": "stream",
     "text": [
      "<class 'pandas.core.frame.DataFrame'>\n",
      "DatetimeIndex: 253 entries, 2020-06-11 to 2021-06-11\n",
      "Data columns (total 6 columns):\n",
      " #   Column     Non-Null Count  Dtype  \n",
      "---  ------     --------------  -----  \n",
      " 0   High       253 non-null    float64\n",
      " 1   Low        253 non-null    float64\n",
      " 2   Open       253 non-null    float64\n",
      " 3   Close      253 non-null    float64\n",
      " 4   Volume     253 non-null    float64\n",
      " 5   Adj Close  253 non-null    float64\n",
      "dtypes: float64(6)\n",
      "memory usage: 13.8 KB\n"
     ]
    }
   ],
   "source": [
    "AAPL.info()"
   ]
  },
  {
   "cell_type": "code",
   "execution_count": 24,
   "id": "1b42fae1",
   "metadata": {},
   "outputs": [
    {
     "data": {
      "text/plain": [
       "<AxesSubplot:xlabel='Date'>"
      ]
     },
     "execution_count": 24,
     "metadata": {},
     "output_type": "execute_result"
    },
    {
     "data": {
      "image/png": "[encoded data removed]",
      "text/plain": [
       "<Figure size 720x288 with 1 Axes>"
      ]
     },
     "metadata": {
      "needs_background": "light"
     },
     "output_type": "display_data"
    }
   ],
   "source": [
    "AAPL['Adj Close'].plot(legend=True, figsize=(10, 4))"
   ]
  },
  {
   "cell_type": "code",
   "execution_count": 27,
   "id": "6cc9ad1a",
   "metadata": {},
   "outputs": [
    {
     "data": {
      "text/plain": [
       "<AxesSubplot:xlabel='Date'>"
      ]
     },
     "execution_count": 27,
     "metadata": {},
     "output_type": "execute_result"
    },
    {
     "data": {
      "image/png": "[encoded data removed]",
      "text/plain": [
       "<Figure size 720x288 with 1 Axes>"
      ]
     },
     "metadata": {
      "needs_background": "light"
     },
     "output_type": "display_data"
    }
   ],
   "source": [
    "AAPL['Volume'].plot(legend=True, figsize=(10, 4))"
   ]
  },
  {
   "cell_type": "markdown",
   "id": "b28c2691",
   "metadata": {},
   "source": [
    "Moving average\n",
    "\n",
    "www.investopedia.com/terms/m/movingaverage.asp\n",
    "\n",
    "www.investopedia.com/articles/active-trading/052014/how-use-moving-average-buy-stocks.asp"
   ]
  },
  {
   "cell_type": "code",
   "execution_count": null,
   "id": "16fe02ba",
   "metadata": {},
   "outputs": [],
   "source": []
  }
 ],
 "metadata": {
  "kernelspec": {
   "display_name": "Python 3",
   "language": "python",
   "name": "python3"
  },
  "language_info": {
   "codemirror_mode": {
    "name": "ipython",
    "version": 3
   },
   "file_extension": ".py",
   "mimetype": "text/x-python",
   "name": "python",
   "nbconvert_exporter": "python",
   "pygments_lexer": "ipython3",
   "version": "3.8.2"
  }
 },
 "nbformat": 4,
 "nbformat_minor": 5
}
