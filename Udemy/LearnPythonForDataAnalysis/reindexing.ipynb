{
 "cells": [
  {
   "cell_type": "code",
   "execution_count": 1,
   "id": "f3a11a39",
   "metadata": {},
   "outputs": [],
   "source": [
    "import numpy as np\n",
    "from pandas import Series, DataFrame\n",
    "import pandas as pd\n",
    "\n",
    "from numpy.random import randn"
   ]
  },
  {
   "cell_type": "code",
   "execution_count": 2,
   "id": "62689b7d",
   "metadata": {},
   "outputs": [],
   "source": [
    "ser1 = Series([1,2,3,4], index=['A', 'B', 'C', 'D'])"
   ]
  },
  {
   "cell_type": "code",
   "execution_count": 3,
   "id": "f351e87f",
   "metadata": {},
   "outputs": [
    {
     "data": {
      "text/plain": [
       "A    1\n",
       "B    2\n",
       "C    3\n",
       "D    4\n",
       "dtype: int64"
      ]
     },
     "execution_count": 3,
     "metadata": {},
     "output_type": "execute_result"
    }
   ],
   "source": [
    "ser1"
   ]
  },
  {
   "cell_type": "code",
   "execution_count": 5,
   "id": "34d97b25",
   "metadata": {},
   "outputs": [],
   "source": [
    "ser2 = ser1.reindex(['A', 'B', 'C', 'D', 'E', 'F'])"
   ]
  },
  {
   "cell_type": "code",
   "execution_count": 6,
   "id": "816df4cd",
   "metadata": {},
   "outputs": [
    {
     "data": {
      "text/plain": [
       "A    1.0\n",
       "B    2.0\n",
       "C    3.0\n",
       "D    4.0\n",
       "E    NaN\n",
       "F    NaN\n",
       "dtype: float64"
      ]
     },
     "execution_count": 6,
     "metadata": {},
     "output_type": "execute_result"
    }
   ],
   "source": [
    "ser2"
   ]
  },
  {
   "cell_type": "code",
   "execution_count": 8,
   "id": "618f758d",
   "metadata": {},
   "outputs": [
    {
     "data": {
      "text/plain": [
       "A    1.0\n",
       "B    2.0\n",
       "C    3.0\n",
       "D    4.0\n",
       "E    NaN\n",
       "F    NaN\n",
       "G    0.0\n",
       "dtype: float64"
      ]
     },
     "execution_count": 8,
     "metadata": {},
     "output_type": "execute_result"
    }
   ],
   "source": [
    "ser2.reindex(['A', 'B', 'C', 'D', 'E', 'F', 'G'], fill_value=0)"
   ]
  },
  {
   "cell_type": "code",
   "execution_count": 9,
   "id": "f6f5e8ac",
   "metadata": {},
   "outputs": [
    {
     "data": {
      "text/plain": [
       "0        USA\n",
       "5     Mexico\n",
       "10    Canada\n",
       "dtype: object"
      ]
     },
     "execution_count": 9,
     "metadata": {},
     "output_type": "execute_result"
    }
   ],
   "source": [
    "ser3 = Series(['USA', 'Mexico', 'Canada'], index=[0, 5, 10])\n",
    "ser3"
   ]
  },
  {
   "cell_type": "code",
   "execution_count": 10,
   "id": "1a8e84f4",
   "metadata": {},
   "outputs": [],
   "source": [
    "ranger = range(15)"
   ]
  },
  {
   "cell_type": "code",
   "execution_count": 11,
   "id": "9d04fa7a",
   "metadata": {},
   "outputs": [
    {
     "data": {
      "text/plain": [
       "range(0, 15)"
      ]
     },
     "execution_count": 11,
     "metadata": {},
     "output_type": "execute_result"
    }
   ],
   "source": [
    "ranger"
   ]
  },
  {
   "cell_type": "code",
   "execution_count": 12,
   "id": "aee3e1d4",
   "metadata": {},
   "outputs": [
    {
     "data": {
      "text/plain": [
       "0        USA\n",
       "1        USA\n",
       "2        USA\n",
       "3        USA\n",
       "4        USA\n",
       "5     Mexico\n",
       "6     Mexico\n",
       "7     Mexico\n",
       "8     Mexico\n",
       "9     Mexico\n",
       "10    Canada\n",
       "11    Canada\n",
       "12    Canada\n",
       "13    Canada\n",
       "14    Canada\n",
       "dtype: object"
      ]
     },
     "execution_count": 12,
     "metadata": {},
     "output_type": "execute_result"
    }
   ],
   "source": [
    "ser3.reindex(ranger, method='ffill')"
   ]
  },
  {
   "cell_type": "code",
   "execution_count": 14,
   "id": "44dfa6a7",
   "metadata": {},
   "outputs": [],
   "source": [
    "dframe = DataFrame(randn(25).reshape((5,5)), index=['A', 'B', 'D', 'E', 'F'], columns=['col1', 'col2', 'col3', 'col4', 'col5'])"
   ]
  },
  {
   "cell_type": "code",
   "execution_count": 15,
   "id": "06ce638e",
   "metadata": {},
   "outputs": [
    {
     "data": {
      "text/html": [
       "<div>\n",
       "<style scoped>\n",
       "    .dataframe tbody tr th:only-of-type {\n",
       "        vertical-align: middle;\n",
       "    }\n",
       "\n",
       "    .dataframe tbody tr th {\n",
       "        vertical-align: top;\n",
       "    }\n",
       "\n",
       "    .dataframe thead th {\n",
       "        text-align: right;\n",
       "    }\n",
       "</style>\n",
       "<table border=\"1\" class=\"dataframe\">\n",
       "  <thead>\n",
       "    <tr style=\"text-align: right;\">\n",
       "      <th></th>\n",
       "      <th>col1</th>\n",
       "      <th>col2</th>\n",
       "      <th>col3</th>\n",
       "      <th>col4</th>\n",
       "      <th>col5</th>\n",
       "    </tr>\n",
       "  </thead>\n",
       "  <tbody>\n",
       "    <tr>\n",
       "      <th>A</th>\n",
       "      <td>-1.270908</td>\n",
       "      <td>1.606267</td>\n",
       "      <td>0.175114</td>\n",
       "      <td>-0.823877</td>\n",
       "      <td>1.059813</td>\n",
       "    </tr>\n",
       "    <tr>\n",
       "      <th>B</th>\n",
       "      <td>0.807611</td>\n",
       "      <td>1.029368</td>\n",
       "      <td>0.491527</td>\n",
       "      <td>3.033471</td>\n",
       "      <td>-0.479798</td>\n",
       "    </tr>\n",
       "    <tr>\n",
       "      <th>D</th>\n",
       "      <td>-0.479512</td>\n",
       "      <td>0.418115</td>\n",
       "      <td>-0.302627</td>\n",
       "      <td>0.903670</td>\n",
       "      <td>0.223174</td>\n",
       "    </tr>\n",
       "    <tr>\n",
       "      <th>E</th>\n",
       "      <td>-2.312124</td>\n",
       "      <td>-0.175503</td>\n",
       "      <td>0.623606</td>\n",
       "      <td>-0.417321</td>\n",
       "      <td>0.811022</td>\n",
       "    </tr>\n",
       "    <tr>\n",
       "      <th>F</th>\n",
       "      <td>-0.958382</td>\n",
       "      <td>0.893185</td>\n",
       "      <td>-0.340169</td>\n",
       "      <td>0.061900</td>\n",
       "      <td>0.610098</td>\n",
       "    </tr>\n",
       "  </tbody>\n",
       "</table>\n",
       "</div>"
      ],
      "text/plain": [
       "       col1      col2      col3      col4      col5\n",
       "A -1.270908  1.606267  0.175114 -0.823877  1.059813\n",
       "B  0.807611  1.029368  0.491527  3.033471 -0.479798\n",
       "D -0.479512  0.418115 -0.302627  0.903670  0.223174\n",
       "E -2.312124 -0.175503  0.623606 -0.417321  0.811022\n",
       "F -0.958382  0.893185 -0.340169  0.061900  0.610098"
      ]
     },
     "execution_count": 15,
     "metadata": {},
     "output_type": "execute_result"
    }
   ],
   "source": [
    "dframe"
   ]
  },
  {
   "cell_type": "code",
   "execution_count": 17,
   "id": "2a685c54",
   "metadata": {},
   "outputs": [],
   "source": [
    "dframe2 = dframe.reindex(['A', 'B', 'C', 'D', 'E', 'F'])"
   ]
  },
  {
   "cell_type": "code",
   "execution_count": 18,
   "id": "1ef228cf",
   "metadata": {},
   "outputs": [
    {
     "data": {
      "text/html": [
       "<div>\n",
       "<style scoped>\n",
       "    .dataframe tbody tr th:only-of-type {\n",
       "        vertical-align: middle;\n",
       "    }\n",
       "\n",
       "    .dataframe tbody tr th {\n",
       "        vertical-align: top;\n",
       "    }\n",
       "\n",
       "    .dataframe thead th {\n",
       "        text-align: right;\n",
       "    }\n",
       "</style>\n",
       "<table border=\"1\" class=\"dataframe\">\n",
       "  <thead>\n",
       "    <tr style=\"text-align: right;\">\n",
       "      <th></th>\n",
       "      <th>col1</th>\n",
       "      <th>col2</th>\n",
       "      <th>col3</th>\n",
       "      <th>col4</th>\n",
       "      <th>col5</th>\n",
       "    </tr>\n",
       "  </thead>\n",
       "  <tbody>\n",
       "    <tr>\n",
       "      <th>A</th>\n",
       "      <td>-1.270908</td>\n",
       "      <td>1.606267</td>\n",
       "      <td>0.175114</td>\n",
       "      <td>-0.823877</td>\n",
       "      <td>1.059813</td>\n",
       "    </tr>\n",
       "    <tr>\n",
       "      <th>B</th>\n",
       "      <td>0.807611</td>\n",
       "      <td>1.029368</td>\n",
       "      <td>0.491527</td>\n",
       "      <td>3.033471</td>\n",
       "      <td>-0.479798</td>\n",
       "    </tr>\n",
       "    <tr>\n",
       "      <th>C</th>\n",
       "      <td>NaN</td>\n",
       "      <td>NaN</td>\n",
       "      <td>NaN</td>\n",
       "      <td>NaN</td>\n",
       "      <td>NaN</td>\n",
       "    </tr>\n",
       "    <tr>\n",
       "      <th>D</th>\n",
       "      <td>-0.479512</td>\n",
       "      <td>0.418115</td>\n",
       "      <td>-0.302627</td>\n",
       "      <td>0.903670</td>\n",
       "      <td>0.223174</td>\n",
       "    </tr>\n",
       "    <tr>\n",
       "      <th>E</th>\n",
       "      <td>-2.312124</td>\n",
       "      <td>-0.175503</td>\n",
       "      <td>0.623606</td>\n",
       "      <td>-0.417321</td>\n",
       "      <td>0.811022</td>\n",
       "    </tr>\n",
       "    <tr>\n",
       "      <th>F</th>\n",
       "      <td>-0.958382</td>\n",
       "      <td>0.893185</td>\n",
       "      <td>-0.340169</td>\n",
       "      <td>0.061900</td>\n",
       "      <td>0.610098</td>\n",
       "    </tr>\n",
       "  </tbody>\n",
       "</table>\n",
       "</div>"
      ],
      "text/plain": [
       "       col1      col2      col3      col4      col5\n",
       "A -1.270908  1.606267  0.175114 -0.823877  1.059813\n",
       "B  0.807611  1.029368  0.491527  3.033471 -0.479798\n",
       "C       NaN       NaN       NaN       NaN       NaN\n",
       "D -0.479512  0.418115 -0.302627  0.903670  0.223174\n",
       "E -2.312124 -0.175503  0.623606 -0.417321  0.811022\n",
       "F -0.958382  0.893185 -0.340169  0.061900  0.610098"
      ]
     },
     "execution_count": 18,
     "metadata": {},
     "output_type": "execute_result"
    }
   ],
   "source": [
    "dframe2"
   ]
  },
  {
   "cell_type": "code",
   "execution_count": 19,
   "id": "ad893ccf",
   "metadata": {},
   "outputs": [],
   "source": [
    "new_columns = ['col1', 'col2', 'col3', 'col4', 'col5', 'col6']"
   ]
  },
  {
   "cell_type": "code",
   "execution_count": 20,
   "id": "de6172db",
   "metadata": {},
   "outputs": [
    {
     "data": {
      "text/html": [
       "<div>\n",
       "<style scoped>\n",
       "    .dataframe tbody tr th:only-of-type {\n",
       "        vertical-align: middle;\n",
       "    }\n",
       "\n",
       "    .dataframe tbody tr th {\n",
       "        vertical-align: top;\n",
       "    }\n",
       "\n",
       "    .dataframe thead th {\n",
       "        text-align: right;\n",
       "    }\n",
       "</style>\n",
       "<table border=\"1\" class=\"dataframe\">\n",
       "  <thead>\n",
       "    <tr style=\"text-align: right;\">\n",
       "      <th></th>\n",
       "      <th>col1</th>\n",
       "      <th>col2</th>\n",
       "      <th>col3</th>\n",
       "      <th>col4</th>\n",
       "      <th>col5</th>\n",
       "      <th>col6</th>\n",
       "    </tr>\n",
       "  </thead>\n",
       "  <tbody>\n",
       "    <tr>\n",
       "      <th>A</th>\n",
       "      <td>-1.270908</td>\n",
       "      <td>1.606267</td>\n",
       "      <td>0.175114</td>\n",
       "      <td>-0.823877</td>\n",
       "      <td>1.059813</td>\n",
       "      <td>NaN</td>\n",
       "    </tr>\n",
       "    <tr>\n",
       "      <th>B</th>\n",
       "      <td>0.807611</td>\n",
       "      <td>1.029368</td>\n",
       "      <td>0.491527</td>\n",
       "      <td>3.033471</td>\n",
       "      <td>-0.479798</td>\n",
       "      <td>NaN</td>\n",
       "    </tr>\n",
       "    <tr>\n",
       "      <th>C</th>\n",
       "      <td>NaN</td>\n",
       "      <td>NaN</td>\n",
       "      <td>NaN</td>\n",
       "      <td>NaN</td>\n",
       "      <td>NaN</td>\n",
       "      <td>NaN</td>\n",
       "    </tr>\n",
       "    <tr>\n",
       "      <th>D</th>\n",
       "      <td>-0.479512</td>\n",
       "      <td>0.418115</td>\n",
       "      <td>-0.302627</td>\n",
       "      <td>0.903670</td>\n",
       "      <td>0.223174</td>\n",
       "      <td>NaN</td>\n",
       "    </tr>\n",
       "    <tr>\n",
       "      <th>E</th>\n",
       "      <td>-2.312124</td>\n",
       "      <td>-0.175503</td>\n",
       "      <td>0.623606</td>\n",
       "      <td>-0.417321</td>\n",
       "      <td>0.811022</td>\n",
       "      <td>NaN</td>\n",
       "    </tr>\n",
       "    <tr>\n",
       "      <th>F</th>\n",
       "      <td>-0.958382</td>\n",
       "      <td>0.893185</td>\n",
       "      <td>-0.340169</td>\n",
       "      <td>0.061900</td>\n",
       "      <td>0.610098</td>\n",
       "      <td>NaN</td>\n",
       "    </tr>\n",
       "  </tbody>\n",
       "</table>\n",
       "</div>"
      ],
      "text/plain": [
       "       col1      col2      col3      col4      col5  col6\n",
       "A -1.270908  1.606267  0.175114 -0.823877  1.059813   NaN\n",
       "B  0.807611  1.029368  0.491527  3.033471 -0.479798   NaN\n",
       "C       NaN       NaN       NaN       NaN       NaN   NaN\n",
       "D -0.479512  0.418115 -0.302627  0.903670  0.223174   NaN\n",
       "E -2.312124 -0.175503  0.623606 -0.417321  0.811022   NaN\n",
       "F -0.958382  0.893185 -0.340169  0.061900  0.610098   NaN"
      ]
     },
     "execution_count": 20,
     "metadata": {},
     "output_type": "execute_result"
    }
   ],
   "source": [
    "dframe2.reindex(columns=new_columns)"
   ]
  },
  {
   "cell_type": "code",
   "execution_count": null,
   "id": "7e01300c",
   "metadata": {},
   "outputs": [],
   "source": []
  }
 ],
 "metadata": {
  "kernelspec": {
   "display_name": "Python 3",
   "language": "python",
   "name": "python3"
  },
  "language_info": {
   "codemirror_mode": {
    "name": "ipython",
    "version": 3
   },
   "file_extension": ".py",
   "mimetype": "text/x-python",
   "name": "python",
   "nbconvert_exporter": "python",
   "pygments_lexer": "ipython3",
   "version": "3.8.2"
  }
 },
 "nbformat": 4,
 "nbformat_minor": 5
}
